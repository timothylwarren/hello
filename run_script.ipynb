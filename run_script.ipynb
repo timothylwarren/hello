{
 "cells": [
  {
   "cell_type": "code",
   "execution_count": 1,
   "id": "intended-variance",
   "metadata": {},
   "outputs": [
    {
     "name": "stdout",
     "output_type": "stream",
     "text": [
      "Just wanted to say hello to my collaborator\n",
      "Here is s your collaborator cheerily responding\n"
     ]
    }
   ],
   "source": [
    "import hello\n",
    "\n",
    "hello.saying_hello()"
   ]
  },
  {
   "cell_type": "code",
   "execution_count": 19,
   "id": "equal-quantum",
   "metadata": {},
   "outputs": [
    {
     "data": {
      "text/plain": [
       "<module 'hello' from '/home/warrenti/hello/hello.py'>"
      ]
     },
     "execution_count": 19,
     "metadata": {},
     "output_type": "execute_result"
    }
   ],
   "source": [
    "import importlib\n",
    "importlib.reload(hello)"
   ]
  },
  {
   "cell_type": "code",
   "execution_count": 2,
   "id": "bound-jason",
   "metadata": {},
   "outputs": [
    {
     "name": "stdout",
     "output_type": "stream",
     "text": [
      "Just wanted to say hello to my collaborator\n",
      "Here is s your collaborator cheerily responding\n"
     ]
    }
   ],
   "source": [
    "hello.saying_hello()"
   ]
  },
  {
   "cell_type": "code",
   "execution_count": null,
   "id": "shaped-accused",
   "metadata": {},
   "outputs": [],
   "source": []
  }
 ],
 "metadata": {
  "kernelspec": {
   "display_name": "Python 3",
   "language": "python",
   "name": "python3"
  },
  "language_info": {
   "codemirror_mode": {
    "name": "ipython",
    "version": 3
   },
   "file_extension": ".py",
   "mimetype": "text/x-python",
   "name": "python",
   "nbconvert_exporter": "python",
   "pygments_lexer": "ipython3",
   "version": "3.7.9"
  }
 },
 "nbformat": 4,
 "nbformat_minor": 5
}
